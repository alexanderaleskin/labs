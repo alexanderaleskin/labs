{
 "cells": [
  {
   "cell_type": "markdown",
   "metadata": {},
   "source": [
    "# Лабораторная работа 2. Метод ближайших соседей и решающие деревья."
   ]
  },
  {
   "cell_type": "markdown",
   "metadata": {},
   "source": [
    "ФИО:  Алескин Александр Сергеевич\n",
    "\n",
    "Группа: 317"
   ]
  },
  {
   "cell_type": "code",
   "execution_count": 1,
   "metadata": {
    "collapsed": false
   },
   "outputs": [],
   "source": [
    "import numpy as np\n",
    "import pandas as pd"
   ]
  },
  {
   "cell_type": "code",
   "execution_count": null,
   "metadata": {
    "collapsed": false
   },
   "outputs": [],
   "source": []
  },
  {
   "cell_type": "markdown",
   "metadata": {},
   "source": [
    "Все эксперименты в этой лабораторной работе предлагается проводить на данных соревнования Amazon Employee Access Challenge: https://www.kaggle.com/c/amazon-employee-access-challenge\n",
    "\n",
    "В данной задаче предлагается предсказать, будет ли одобрен запрос сотрудника на получение доступа к тому или иному ресурсу. Все признаки являются категориальными.\n",
    "\n",
    "Для удобства данные можно загрузить по ссылке: https://www.dropbox.com/s/q6fbs1vvhd5kvek/amazon.csv\n",
    "\n",
    "Сразу прочитаем данные и создадим разбиение на обучение и контроль:"
   ]
  },
  {
   "cell_type": "code",
   "execution_count": 5,
   "metadata": {
    "collapsed": false
   },
   "outputs": [
    {
     "data": {
      "text/html": [
       "<div>\n",
       "<table border=\"1\" class=\"dataframe\">\n",
       "  <thead>\n",
       "    <tr style=\"text-align: right;\">\n",
       "      <th></th>\n",
       "      <th>ACTION</th>\n",
       "      <th>RESOURCE</th>\n",
       "      <th>MGR_ID</th>\n",
       "      <th>ROLE_ROLLUP_1</th>\n",
       "      <th>ROLE_ROLLUP_2</th>\n",
       "      <th>ROLE_DEPTNAME</th>\n",
       "      <th>ROLE_TITLE</th>\n",
       "      <th>ROLE_FAMILY_DESC</th>\n",
       "      <th>ROLE_FAMILY</th>\n",
       "      <th>ROLE_CODE</th>\n",
       "    </tr>\n",
       "  </thead>\n",
       "  <tbody>\n",
       "    <tr>\n",
       "      <th>0</th>\n",
       "      <td>1</td>\n",
       "      <td>39353</td>\n",
       "      <td>85475</td>\n",
       "      <td>117961</td>\n",
       "      <td>118300</td>\n",
       "      <td>123472</td>\n",
       "      <td>117905</td>\n",
       "      <td>117906</td>\n",
       "      <td>290919</td>\n",
       "      <td>117908</td>\n",
       "    </tr>\n",
       "    <tr>\n",
       "      <th>1</th>\n",
       "      <td>1</td>\n",
       "      <td>17183</td>\n",
       "      <td>1540</td>\n",
       "      <td>117961</td>\n",
       "      <td>118343</td>\n",
       "      <td>123125</td>\n",
       "      <td>118536</td>\n",
       "      <td>118536</td>\n",
       "      <td>308574</td>\n",
       "      <td>118539</td>\n",
       "    </tr>\n",
       "    <tr>\n",
       "      <th>2</th>\n",
       "      <td>1</td>\n",
       "      <td>36724</td>\n",
       "      <td>14457</td>\n",
       "      <td>118219</td>\n",
       "      <td>118220</td>\n",
       "      <td>117884</td>\n",
       "      <td>117879</td>\n",
       "      <td>267952</td>\n",
       "      <td>19721</td>\n",
       "      <td>117880</td>\n",
       "    </tr>\n",
       "    <tr>\n",
       "      <th>3</th>\n",
       "      <td>1</td>\n",
       "      <td>36135</td>\n",
       "      <td>5396</td>\n",
       "      <td>117961</td>\n",
       "      <td>118343</td>\n",
       "      <td>119993</td>\n",
       "      <td>118321</td>\n",
       "      <td>240983</td>\n",
       "      <td>290919</td>\n",
       "      <td>118322</td>\n",
       "    </tr>\n",
       "    <tr>\n",
       "      <th>4</th>\n",
       "      <td>1</td>\n",
       "      <td>42680</td>\n",
       "      <td>5905</td>\n",
       "      <td>117929</td>\n",
       "      <td>117930</td>\n",
       "      <td>119569</td>\n",
       "      <td>119323</td>\n",
       "      <td>123932</td>\n",
       "      <td>19793</td>\n",
       "      <td>119325</td>\n",
       "    </tr>\n",
       "  </tbody>\n",
       "</table>\n",
       "</div>"
      ],
      "text/plain": [
       "   ACTION  RESOURCE  MGR_ID  ROLE_ROLLUP_1  ROLE_ROLLUP_2  ROLE_DEPTNAME  \\\n",
       "0       1     39353   85475         117961         118300         123472   \n",
       "1       1     17183    1540         117961         118343         123125   \n",
       "2       1     36724   14457         118219         118220         117884   \n",
       "3       1     36135    5396         117961         118343         119993   \n",
       "4       1     42680    5905         117929         117930         119569   \n",
       "\n",
       "   ROLE_TITLE  ROLE_FAMILY_DESC  ROLE_FAMILY  ROLE_CODE  \n",
       "0      117905            117906       290919     117908  \n",
       "1      118536            118536       308574     118539  \n",
       "2      117879            267952        19721     117880  \n",
       "3      118321            240983       290919     118322  \n",
       "4      119323            123932        19793     119325  "
      ]
     },
     "execution_count": 5,
     "metadata": {},
     "output_type": "execute_result"
    }
   ],
   "source": [
    "data = pd.read_csv('amazon.csv')\n",
    "data.head()"
   ]
  },
  {
   "cell_type": "code",
   "execution_count": 6,
   "metadata": {
    "collapsed": false
   },
   "outputs": [
    {
     "data": {
      "text/plain": [
       "(32769, 10)"
      ]
     },
     "execution_count": 6,
     "metadata": {},
     "output_type": "execute_result"
    }
   ],
   "source": [
    "data.shape"
   ]
  },
  {
   "cell_type": "code",
   "execution_count": 7,
   "metadata": {
    "collapsed": false
   },
   "outputs": [
    {
     "data": {
      "text/plain": [
       "0.9421099209618847"
      ]
     },
     "execution_count": 7,
     "metadata": {},
     "output_type": "execute_result"
    }
   ],
   "source": [
    "# доля положительных примеров\n",
    "data.ACTION.mean()"
   ]
  },
  {
   "cell_type": "code",
   "execution_count": 8,
   "metadata": {
    "collapsed": false
   },
   "outputs": [
    {
     "ename": "SyntaxError",
     "evalue": "invalid syntax (<ipython-input-8-99e87b3b8f79>, line 3)",
     "output_type": "error",
     "traceback": [
      "\u001b[1;36m  File \u001b[1;32m\"<ipython-input-8-99e87b3b8f79>\"\u001b[1;36m, line \u001b[1;32m3\u001b[0m\n\u001b[1;33m    print col_name, len(data[col_name].unique())\u001b[0m\n\u001b[1;37m                 ^\u001b[0m\n\u001b[1;31mSyntaxError\u001b[0m\u001b[1;31m:\u001b[0m invalid syntax\n"
     ]
    }
   ],
   "source": [
    "# число значений у признаков\n",
    "for col_name in data.columns:\n",
    "    print col_name, len(data[col_name].unique())"
   ]
  },
  {
   "cell_type": "code",
   "execution_count": 9,
   "metadata": {
    "collapsed": true
   },
   "outputs": [],
   "source": [
    "from sklearn.cross_validation import train_test_split\n",
    "X_train, X_test, y_train, y_test = train_test_split(data.iloc[:, 1:], data.iloc[:, 0],\n",
    "                                                    test_size=0.3, random_state=241)"
   ]
  },
  {
   "cell_type": "code",
   "execution_count": 10,
   "metadata": {
    "collapsed": false
   },
   "outputs": [
    {
     "ename": "SyntaxError",
     "evalue": "invalid syntax (<ipython-input-10-89c72e1c0b22>, line 1)",
     "output_type": "error",
     "traceback": [
      "\u001b[1;36m  File \u001b[1;32m\"<ipython-input-10-89c72e1c0b22>\"\u001b[1;36m, line \u001b[1;32m1\u001b[0m\n\u001b[1;33m    print y_train.mean()\u001b[0m\n\u001b[1;37m                ^\u001b[0m\n\u001b[1;31mSyntaxError\u001b[0m\u001b[1;31m:\u001b[0m invalid syntax\n"
     ]
    }
   ],
   "source": [
    "print y_train.mean()\n",
    "print y_test.mean()"
   ]
  },
  {
   "cell_type": "markdown",
   "metadata": {},
   "source": [
    "## Часть 1: kNN и категориальные признаки"
   ]
  },
  {
   "cell_type": "markdown",
   "metadata": {},
   "source": [
    "#### 1. Реализуйте три функции расстояния на категориальных признаках, которые обсуждались на втором семинаре. Реализуйте самостоятельно метод k ближайших соседей, который будет уметь работать с этими функциями расстояния. Подсчитайте для каждой из них качество на тестовой выборке `X_test` при числе соседей $k = 10$. Метрика качества — AUC-ROC.\n",
    "\n",
    "Какая функция расстояния оказалась лучшей?"
   ]
  },
  {
   "cell_type": "code",
   "execution_count": 8,
   "metadata": {
    "collapsed": false
   },
   "outputs": [],
   "source": [
    "# metrics\n",
    "\n",
    "def match_id(data, obj, p, p2):\n",
    "    \"\"\"\n",
    "    p and p2 for beauty in kNN\n",
    "    return vector of distances\n",
    "    \n",
    "    \"\"\"\n",
    "    return (data != obj).sum(axis = 1)\n",
    "\n",
    "def smooth_match_id(data, obj, data_w, p_val):\n",
    "    \"\"\"\n",
    "    p_val - probability of that 2 object have same value\n",
    "    return vector of distances\n",
    "    \n",
    "    \"\"\"\n",
    "    non_equal = (data != obj)\n",
    "    match = np.sum(non_equal, axis = 1)\n",
    "    dist =  (data == obj) * data_w\n",
    "    dist = np.sum(dist, axis = 1)\n",
    "    return match + dist\n",
    "\n",
    "def match_log_id(data, obj, data_log, p_val_log):\n",
    "    \"\"\"\n",
    "    p_val_log - log of frequency of value\n",
    "    return vector of distances\n",
    "    \n",
    "    \"\"\"\n",
    "    p_id = data != obj\n",
    "    dist = np.zeros((p_id.shape[0]))\n",
    "    for i in np.arange(p_id.shape[1]):\n",
    "        arr = p_val_log[i]\n",
    "        try:\n",
    "            obj_log = arr[obj[i]]\n",
    "            dist += p_id[:,i] * data_log[:,i] * obj_log\n",
    "        except KeyError:\n",
    "            pass\n",
    "        \n",
    "    return dist\n",
    "        \n"
   ]
  },
  {
   "cell_type": "code",
   "execution_count": 9,
   "metadata": {
    "collapsed": false
   },
   "outputs": [],
   "source": [
    "# kNN    \n",
    "    \n",
    "def neighbor_class(metrik_func, k, neighbours, ans_neigs, data_to_class):\n",
    "    \"\"\"\n",
    "    k - amount_neig\n",
    "    \n",
    "    metrik_func:\n",
    "    mi - match id\n",
    "    smi - smooth_match_id\n",
    "    mli - match_log_id\n",
    "    \n",
    "    \"\"\"\n",
    "    neigs = neighbours.values\n",
    "    data = data_to_class.values\n",
    "    #neigs_ans = ans_neigs.values \n",
    "    weights = []\n",
    "    data_w = []\n",
    "    if metrik_func =='smi':\n",
    "        metric = smooth_match_id\n",
    "        size_n = neigs.shape[0]\n",
    "        data_w = np.zeros(neigs.shape)\n",
    "        for i in range(neigs.shape[1]):\n",
    "            x_val, x_count = np.unique(neigs[:, i] , return_counts = True)\n",
    "            p_vals = pd.Series(np.float32(x_count * (x_count - 1))/(size_n * (size_n - 1)), index = x_val)\n",
    "            p_vals.sort()\n",
    "            data_w[:, i] = [np.sum(p_vals[0:np.where(p_vals.index == j)[0][0]+1]) \n",
    "                            for j in neigs[:, i]]\n",
    "            \n",
    "    elif metrik_func == 'mli':\n",
    "        metric = match_log_id\n",
    "        size_n = neigs.shape[0]\n",
    "        data_w = np.empty_like(neigs)\n",
    "        for i in range(neigs.shape[1]):\n",
    "            x_val, x_count = np.unique(neigs[:, i] , return_counts = True)\n",
    "            p_vals = pd.Series(np.log(x_count), index = x_val)\n",
    "            data_w[:,i] = p_vals[neigs[:,i]]\n",
    "            weights += [p_vals]\n",
    "        \n",
    "    elif metrik_func == 'mi':\n",
    "        metric = match_id\n",
    "    else:\n",
    "        raise ValueError (\"no\", metrik_func)\n",
    "    \n",
    "    ans_data = np.empty(data.shape[0])\n",
    "    for i in range(data.shape[0]):\n",
    "        dist = metric(neigs, data[i], data_w, weights)\n",
    "        pd_dist = pd.Series(dist, index = neighbours.index)\n",
    "        pd_dist.sort()\n",
    "        ans_data[i] = float(np.sum(ans_neigs[pd_dist[0:k].index])) / k\n",
    "    return pd.Series(ans_data, data_to_class.index)\n",
    "        "
   ]
  },
  {
   "cell_type": "code",
   "execution_count": 10,
   "metadata": {
    "collapsed": false
   },
   "outputs": [],
   "source": [
    "n_neighbours = 10\n",
    "\n",
    "y_mi = neighbor_class('mi', n_neighbours,  X_train, y_train, X_test)"
   ]
  },
  {
   "cell_type": "code",
   "execution_count": 11,
   "metadata": {
    "collapsed": false
   },
   "outputs": [],
   "source": [
    "\n",
    "y_smi = neighbor_class('smi', n_neighbours,  X_train, y_train, X_test)"
   ]
  },
  {
   "cell_type": "code",
   "execution_count": 12,
   "metadata": {
    "collapsed": true
   },
   "outputs": [],
   "source": [
    "\n",
    "y_mli = neighbor_class('mli', n_neighbours,  X_train, y_train, X_test)"
   ]
  },
  {
   "cell_type": "code",
   "execution_count": 13,
   "metadata": {
    "collapsed": false
   },
   "outputs": [
    {
     "name": "stdout",
     "output_type": "stream",
     "text": [
      "match_id gives  0.83088009598\n",
      "smooth_match_id gives  0.832857727689\n",
      "match_log_id  0.802592208011\n"
     ]
    }
   ],
   "source": [
    "from sklearn.metrics import roc_auc_score\n",
    "print \"match_id gives \", roc_auc_score(y_test, y_mi)\n",
    "print \"smooth_match_id gives \", roc_auc_score(y_test, y_smi)\n",
    "print \"match_log_id \", roc_auc_score(y_test, y_mli)"
   ]
  },
  {
   "cell_type": "markdown",
   "metadata": {},
   "source": [
    "######  МОИ Комментарии: вообще столько значений у некоторых параметров, что не все значения попадают в обучающую выборку.  Наилучший результат у сглаживающего признака"
   ]
  },
  {
   "cell_type": "markdown",
   "metadata": {},
   "source": [
    "#### 2 (бонус). Подберите лучшее (на тестовой выборке) число соседей $k$ для каждой из функций расстояния. Какое наилучшее качество удалось достичь?"
   ]
  },
  {
   "cell_type": "code",
   "execution_count": 14,
   "metadata": {
    "collapsed": false
   },
   "outputs": [
    {
     "name": "stdout",
     "output_type": "stream",
     "text": [
      "best score mi   0.829705773258  with k =  12\n",
      "best score smi  0.836041490999  with k =  7\n",
      "best score mli  0.807762498733  with k =  12\n"
     ]
    }
   ],
   "source": [
    "k_neig = np.arange(2, 70, 5)\n",
    "mi_mass = np.zeros_like(k_neig, dtype = float)\n",
    "smi_mass = np.zeros_like(k_neig, dtype = float)\n",
    "mli_mass = np.zeros_like(k_neig, dtype = float)\n",
    "for i in range(k_neig.size):\n",
    "    mi_mass[i] = roc_auc_score(y_test, neighbor_class('mi', k_neig[i],  X_train, y_train, X_test))\n",
    "    smi_mass[i] = roc_auc_score(y_test, neighbor_class('smi', k_neig[i],  X_train, y_train, X_test))\n",
    "    mli_mass[i] = roc_auc_score(y_test, neighbor_class('mli', k_neig[i],  X_train, y_train, X_test))\n",
    "print \"best score mi  \", np.amax(mi_mass), ' with k = ', k_neig[np.argmax(mi_mass)]\n",
    "print \"best score smi \", np.amax(smi_mass), ' with k = ', k_neig[np.argmax(smi_mass)]\n",
    "print \"best score mli \", np.amax(mli_mass), ' with k = ', k_neig[np.argmax(mli_mass)]"
   ]
  },
  {
   "cell_type": "code",
   "execution_count": 16,
   "metadata": {
    "collapsed": false
   },
   "outputs": [
    {
     "name": "stdout",
     "output_type": "stream",
     "text": [
      "best score mi   0.831201958708  with k =  11\n",
      "best score smi  0.836041490999  with k =  7\n",
      "best score mli  0.807762498733  with k =  12\n"
     ]
    }
   ],
   "source": [
    "k_neig = np.arange(3, 15, 1)\n",
    "mi_mass = np.zeros_like(k_neig, dtype = float)\n",
    "smi_mass = np.zeros_like(k_neig, dtype = float)\n",
    "mli_mass = np.zeros_like(k_neig, dtype = float)\n",
    "for i in range(k_neig.size):\n",
    "    mi_mass[i] = roc_auc_score(y_test, neighbor_class('mi', k_neig[i],  X_train, y_train, X_test))\n",
    "    smi_mass[i] = roc_auc_score(y_test, neighbor_class('smi', k_neig[i],  X_train, y_train, X_test))\n",
    "    mli_mass[i] = roc_auc_score(y_test, neighbor_class('mli', k_neig[i],  X_train, y_train, X_test))\n",
    "print \"best score mi  \", np.amax(mi_mass), ' with k = ', k_neig[np.argmax(mi_mass)]\n",
    "print \"best score smi \", np.amax(smi_mass), ' with k = ', k_neig[np.argmax(smi_mass)]\n",
    "print \"best score mli \", np.amax(mli_mass), ' with k = ', k_neig[np.argmax(mli_mass)]"
   ]
  },
  {
   "cell_type": "markdown",
   "metadata": {},
   "source": [
    "### 3. Реализуйте счетчики (http://blogs.technet.com/b/machinelearning/archive/2015/02/17/big-learning-made-easy-with-counts.aspx), которые заменят категориальные признаки на вещественные.\n",
    "\n",
    "А именно, каждый категориальный признак нужно заменить на три: \n",
    "1. Число `counts` объектов в обучающей выборке с таким же значением признака.\n",
    "2. Число `clicks` объектов первого класса ($y = 1$) в обучающей выборке с таким же значением признака.\n",
    "3. Сглаженное отношение двух предыдущих величин: (`clicks` + 1) / (`counts` + 2).\n",
    "\n",
    "Поскольку признаки, содержащие информацию о целевой переменной, могут привести к переобучению, может оказаться полезным сделать *фолдинг*: разбить обучающую выборку на $n$ частей, и для $i$-й части считать `counts` и `clicks` по всем остальным частям. Для тестовой выборки используются счетчики, посчитанный по всей обучающей выборке. Реализуйте и такой вариант. Можно использовать $n = 3$.\n",
    "\n",
    "#### Посчитайте на тесте AUC-ROC метода $k$ ближайших соседей с евклидовой метрикой для выборки, где категориальные признаки заменены на счетчики. Сравните по AUC-ROC два варианта формирования выборки — с фолдингом и без. Не забудьте подобрать наилучшее число соседей $k$."
   ]
  },
  {
   "cell_type": "code",
   "execution_count": 4,
   "metadata": {
    "collapsed": false
   },
   "outputs": [],
   "source": [
    "# мои функции для счетчиков и фолдинга\n",
    "\n",
    "import sklearn as sk \n",
    "\n",
    "def item_counts(vals, ans, a, b):\n",
    "    \"\"\"\n",
    "    return counts of feature\n",
    "    \n",
    "    \"\"\"\n",
    "    x_val, x_count = np.unique(vals , return_counts = True)\n",
    "    counts = x_count\n",
    "    clicks = np.array([np.sum(ans[np.where(vals == j)[0]] == 1) for j in x_val])\n",
    "    counts = np.float16(counts) / vals.size\n",
    "    clicks = np.float16(clicks) / vals.size\n",
    "    p = (clicks + a) / (counts + b)\n",
    "    return_val = np.reshape(np.concatenate((counts, clicks, p)), (p.size, -1), 'F')\n",
    "    return pd.DataFrame(data = return_val, index = x_val)\n",
    "\n",
    "def counters(data_test, data_train, answers, a = 1, b = 2):\n",
    "    ans = answers.values\n",
    "    vals = data_train.values\n",
    "    test = data_test.values\n",
    "    props = data_train.shape[1] # features in data\n",
    "    data2 = pd.DataFrame(data = np.empty((test.shape[0], props * 3), dtype = int), index = data_test.index)\n",
    "    for i in range(props):\n",
    "        item_counters = item_counts(vals[:, i], ans, a, b)\n",
    "        uniq = np.unique([j for j in test[:, i] if not (vals[:,i] == j).any()])\n",
    "        extra_data = np.zeros((uniq.size, 3))\n",
    "        extra_frame = pd.DataFrame(data = extra_data, index = uniq)\n",
    "        it_cs = item_counters.append(extra_frame)\n",
    "        data2.iloc[:, i * 3 : (i + 1) * 3] = it_cs.ix[test[:, i]].values\n",
    "    return data2 \n",
    "\n",
    "def folding_counters(x_test, x_train, y_train, n = 3, a = 1, b = 2):\n",
    "    \n",
    "    x_test2 = counters(x_test, x_train, y_train, a, b) # make x_test\n",
    "    \n",
    "    tr_sh = x_train.shape\n",
    "    x_train2 = pd.DataFrame(data = np.empty((tr_sh[0], tr_sh[1] * 3)), index = x_train.index)\n",
    "    kf = sk.cross_validation.KFold(x_train.shape[0], n_folds = n, shuffle = True)\n",
    "    for train_index, test_index in kf:\n",
    "        x_train2.iloc[test_index, :] = counters(x_train.iloc[test_index, :], x_train.iloc[train_index, :],\n",
    "                                           y_train.iloc[train_index], a, b)\n",
    "    return x_test2, x_train2\n",
    "        \n"
   ]
  },
  {
   "cell_type": "markdown",
   "metadata": {},
   "source": [
    "#### без фолдинга"
   ]
  },
  {
   "cell_type": "code",
   "execution_count": 14,
   "metadata": {
    "collapsed": true
   },
   "outputs": [],
   "source": [
    "from sklearn.neighbors import NearestNeighbors\n",
    "from sklearn.metrics import roc_auc_score"
   ]
  },
  {
   "cell_type": "code",
   "execution_count": 19,
   "metadata": {
    "collapsed": false
   },
   "outputs": [],
   "source": [
    "X_test2 = counters(X_test, X_train, y_train)\n",
    "X_train2 = counters(X_train, X_train, y_train)\n",
    "n = np.arange(2, 40, 2)\n",
    "auc = np.zeros(n.shape)\n",
    "for j in range(n.size):\n",
    "    knn = NearestNeighbors(n_neighbors = n[j], metric = 'euclidean').fit(X_train2)\n",
    "    neighs = knn.kneighbors(X_test2, return_distance = False)\n",
    "    y_prec = np.zeros(y_test.shape)\n",
    "    for i in range(j):\n",
    "        y_prec += y_train.iloc[neighs[:, i]]\n",
    "    y_prec /= n[j]\n",
    "    auc[j] = roc_auc_score(y_test, y_prec)"
   ]
  },
  {
   "cell_type": "code",
   "execution_count": 20,
   "metadata": {
    "collapsed": false
   },
   "outputs": [
    {
     "name": "stdout",
     "output_type": "stream",
     "text": [
      "best score   0.796083338545  with n =  30\n"
     ]
    }
   ],
   "source": [
    "print \"best score  \", np.amax(auc), ' with n = ', n[np.argmax(auc)]"
   ]
  },
  {
   "cell_type": "markdown",
   "metadata": {},
   "source": [
    "#### c фолдингом"
   ]
  },
  {
   "cell_type": "code",
   "execution_count": 15,
   "metadata": {
    "collapsed": false
   },
   "outputs": [],
   "source": [
    "X_test2, X_train2 = folding_counters(X_test, X_train, y_train, n = 5)\n",
    "n = np.arange(2, 100, 4)\n",
    "auc = np.zeros(n.shape)\n",
    "for j in range(n.size):\n",
    "    knn = NearestNeighbors(n_neighbors = n[j], metric = 'euclidean').fit(X_train2)\n",
    "    neighs = knn.kneighbors(X_test2, return_distance = False)\n",
    "    y_prec = np.zeros(y_test.shape)\n",
    "    for i in range(j):\n",
    "        y_prec += y_train.iloc[neighs[:, i]]\n",
    "    y_prec /= n[j]\n",
    "    auc[j] = roc_auc_score(y_test, y_prec)"
   ]
  },
  {
   "cell_type": "code",
   "execution_count": 16,
   "metadata": {
    "collapsed": false
   },
   "outputs": [
    {
     "name": "stdout",
     "output_type": "stream",
     "text": [
      "best score   0.745712091184  with n =  74\n"
     ]
    }
   ],
   "source": [
    "print \"best score  \", np.amax(auc), ' with n = ', n[np.argmax(auc)]"
   ]
  },
  {
   "cell_type": "markdown",
   "metadata": {},
   "source": [
    "#### 4. Добавьте в исходную выборку парные признаки — то есть для каждой пары $f_i$, $f_j$ исходных категориальных признаков добавьте новый категориальный признак $f_{ij}$, значение которого является конкатенацией значений $f_i$ и $f_j$. Посчитайте счетчики для этой выборки, найдите качество метода $k$ ближайших соседей с наилучшим $k$ (с фолдингом и без)."
   ]
  },
  {
   "cell_type": "code",
   "execution_count": 23,
   "metadata": {
    "collapsed": false
   },
   "outputs": [
    {
     "data": {
      "text/plain": [
       "ACTION                   1\n",
       "RESOURCE            312153\n",
       "MGR_ID              311696\n",
       "ROLE_ROLLUP_1       311178\n",
       "ROLE_ROLLUP_2       286791\n",
       "ROLE_DEPTNAME       286792\n",
       "ROLE_TITLE          311867\n",
       "ROLE_FAMILY_DESC    311867\n",
       "ROLE_FAMILY         308574\n",
       "ROLE_CODE           270691\n",
       "dtype: int64"
      ]
     },
     "execution_count": 23,
     "metadata": {},
     "output_type": "execute_result"
    }
   ],
   "source": [
    "data.max() # воспользуемся, что признаки ограничены. например миллионом "
   ]
  },
  {
   "cell_type": "code",
   "execution_count": 24,
   "metadata": {
    "collapsed": false
   },
   "outputs": [
    {
     "data": {
      "text/html": [
       "<div>\n",
       "<table border=\"1\" class=\"dataframe\">\n",
       "  <thead>\n",
       "    <tr style=\"text-align: right;\">\n",
       "      <th></th>\n",
       "      <th>RESOURCE</th>\n",
       "      <th>MGR_ID</th>\n",
       "      <th>ROLE_ROLLUP_1</th>\n",
       "      <th>ROLE_ROLLUP_2</th>\n",
       "      <th>ROLE_DEPTNAME</th>\n",
       "      <th>ROLE_TITLE</th>\n",
       "      <th>ROLE_FAMILY_DESC</th>\n",
       "      <th>ROLE_FAMILY</th>\n",
       "      <th>ROLE_CODE</th>\n",
       "      <th>1+2</th>\n",
       "      <th>...</th>\n",
       "      <th>5+6</th>\n",
       "      <th>5+7</th>\n",
       "      <th>5+8</th>\n",
       "      <th>5+9</th>\n",
       "      <th>6+7</th>\n",
       "      <th>6+8</th>\n",
       "      <th>6+9</th>\n",
       "      <th>7+8</th>\n",
       "      <th>7+9</th>\n",
       "      <th>8+9</th>\n",
       "    </tr>\n",
       "  </thead>\n",
       "  <tbody>\n",
       "    <tr>\n",
       "      <th>1728</th>\n",
       "      <td>40867</td>\n",
       "      <td>8150</td>\n",
       "      <td>117961</td>\n",
       "      <td>118386</td>\n",
       "      <td>119954</td>\n",
       "      <td>118054</td>\n",
       "      <td>118054</td>\n",
       "      <td>117887</td>\n",
       "      <td>118055</td>\n",
       "      <td>40867008150</td>\n",
       "      <td>...</td>\n",
       "      <td>119954118054</td>\n",
       "      <td>119954118054</td>\n",
       "      <td>119954117887</td>\n",
       "      <td>119954118055</td>\n",
       "      <td>118054118054</td>\n",
       "      <td>118054117887</td>\n",
       "      <td>118054118055</td>\n",
       "      <td>118054117887</td>\n",
       "      <td>118054118055</td>\n",
       "      <td>117887118055</td>\n",
       "    </tr>\n",
       "    <tr>\n",
       "      <th>22856</th>\n",
       "      <td>38587</td>\n",
       "      <td>14551</td>\n",
       "      <td>5110</td>\n",
       "      <td>117954</td>\n",
       "      <td>117895</td>\n",
       "      <td>117899</td>\n",
       "      <td>117897</td>\n",
       "      <td>19721</td>\n",
       "      <td>117900</td>\n",
       "      <td>38587014551</td>\n",
       "      <td>...</td>\n",
       "      <td>117895117899</td>\n",
       "      <td>117895117897</td>\n",
       "      <td>117895019721</td>\n",
       "      <td>117895117900</td>\n",
       "      <td>117899117897</td>\n",
       "      <td>117899019721</td>\n",
       "      <td>117899117900</td>\n",
       "      <td>117897019721</td>\n",
       "      <td>117897117900</td>\n",
       "      <td>19721117900</td>\n",
       "    </tr>\n",
       "    <tr>\n",
       "      <th>27691</th>\n",
       "      <td>3853</td>\n",
       "      <td>51301</td>\n",
       "      <td>118290</td>\n",
       "      <td>118291</td>\n",
       "      <td>121108</td>\n",
       "      <td>126869</td>\n",
       "      <td>118302</td>\n",
       "      <td>118295</td>\n",
       "      <td>126870</td>\n",
       "      <td>3853051301</td>\n",
       "      <td>...</td>\n",
       "      <td>121108126869</td>\n",
       "      <td>121108118302</td>\n",
       "      <td>121108118295</td>\n",
       "      <td>121108126870</td>\n",
       "      <td>126869118302</td>\n",
       "      <td>126869118295</td>\n",
       "      <td>126869126870</td>\n",
       "      <td>118302118295</td>\n",
       "      <td>118302126870</td>\n",
       "      <td>118295126870</td>\n",
       "    </tr>\n",
       "    <tr>\n",
       "      <th>8421</th>\n",
       "      <td>45337</td>\n",
       "      <td>49423</td>\n",
       "      <td>117961</td>\n",
       "      <td>118052</td>\n",
       "      <td>123144</td>\n",
       "      <td>118396</td>\n",
       "      <td>269406</td>\n",
       "      <td>118398</td>\n",
       "      <td>118399</td>\n",
       "      <td>45337049423</td>\n",
       "      <td>...</td>\n",
       "      <td>123144118396</td>\n",
       "      <td>123144269406</td>\n",
       "      <td>123144118398</td>\n",
       "      <td>123144118399</td>\n",
       "      <td>118396269406</td>\n",
       "      <td>118396118398</td>\n",
       "      <td>118396118399</td>\n",
       "      <td>269406118398</td>\n",
       "      <td>269406118399</td>\n",
       "      <td>118398118399</td>\n",
       "    </tr>\n",
       "    <tr>\n",
       "      <th>5013</th>\n",
       "      <td>40919</td>\n",
       "      <td>87700</td>\n",
       "      <td>118315</td>\n",
       "      <td>118463</td>\n",
       "      <td>118464</td>\n",
       "      <td>118465</td>\n",
       "      <td>162182</td>\n",
       "      <td>118467</td>\n",
       "      <td>118468</td>\n",
       "      <td>40919087700</td>\n",
       "      <td>...</td>\n",
       "      <td>118464118465</td>\n",
       "      <td>118464162182</td>\n",
       "      <td>118464118467</td>\n",
       "      <td>118464118468</td>\n",
       "      <td>118465162182</td>\n",
       "      <td>118465118467</td>\n",
       "      <td>118465118468</td>\n",
       "      <td>162182118467</td>\n",
       "      <td>162182118468</td>\n",
       "      <td>118467118468</td>\n",
       "    </tr>\n",
       "  </tbody>\n",
       "</table>\n",
       "<p>5 rows × 45 columns</p>\n",
       "</div>"
      ],
      "text/plain": [
       "       RESOURCE  MGR_ID  ROLE_ROLLUP_1  ROLE_ROLLUP_2  ROLE_DEPTNAME  \\\n",
       "1728      40867    8150         117961         118386         119954   \n",
       "22856     38587   14551           5110         117954         117895   \n",
       "27691      3853   51301         118290         118291         121108   \n",
       "8421      45337   49423         117961         118052         123144   \n",
       "5013      40919   87700         118315         118463         118464   \n",
       "\n",
       "       ROLE_TITLE  ROLE_FAMILY_DESC  ROLE_FAMILY  ROLE_CODE          1+2  \\\n",
       "1728       118054            118054       117887     118055  40867008150   \n",
       "22856      117899            117897        19721     117900  38587014551   \n",
       "27691      126869            118302       118295     126870   3853051301   \n",
       "8421       118396            269406       118398     118399  45337049423   \n",
       "5013       118465            162182       118467     118468  40919087700   \n",
       "\n",
       "           ...                5+6           5+7           5+8           5+9  \\\n",
       "1728       ...       119954118054  119954118054  119954117887  119954118055   \n",
       "22856      ...       117895117899  117895117897  117895019721  117895117900   \n",
       "27691      ...       121108126869  121108118302  121108118295  121108126870   \n",
       "8421       ...       123144118396  123144269406  123144118398  123144118399   \n",
       "5013       ...       118464118465  118464162182  118464118467  118464118468   \n",
       "\n",
       "                6+7           6+8           6+9           7+8           7+9  \\\n",
       "1728   118054118054  118054117887  118054118055  118054117887  118054118055   \n",
       "22856  117899117897  117899019721  117899117900  117897019721  117897117900   \n",
       "27691  126869118302  126869118295  126869126870  118302118295  118302126870   \n",
       "8421   118396269406  118396118398  118396118399  269406118398  269406118399   \n",
       "5013   118465162182  118465118467  118465118468  162182118467  162182118468   \n",
       "\n",
       "                8+9  \n",
       "1728   117887118055  \n",
       "22856   19721117900  \n",
       "27691  118295126870  \n",
       "8421   118398118399  \n",
       "5013   118467118468  \n",
       "\n",
       "[5 rows x 45 columns]"
      ]
     },
     "execution_count": 24,
     "metadata": {},
     "output_type": "execute_result"
    }
   ],
   "source": [
    "# добавление признаков\n",
    "data2 = data.copy()\n",
    "for i in range(1, data.shape[1]):\n",
    "    for j in range(i+1, data.shape[1]):\n",
    "        data2[str(i) + '+' + str(j)] = data.iloc[:, i]*(10**6) + data.iloc[:, j]\n",
    "\n",
    "X_train2, X_test2, y_train2, y_test2 = train_test_split(data2.iloc[:, 1:], data2.iloc[:, 0],\n",
    "                                                    test_size=0.3, random_state=241)\n",
    "X_train2.head()"
   ]
  },
  {
   "cell_type": "markdown",
   "metadata": {},
   "source": [
    "#### без фолдинга"
   ]
  },
  {
   "cell_type": "code",
   "execution_count": 25,
   "metadata": {
    "collapsed": false
   },
   "outputs": [],
   "source": [
    "X_test3 = counters(X_test2, X_train2, y_train)\n",
    "X_train3 = counters(X_train2, X_train2, y_train)\n",
    "n = np.arange(2, 100, 4)\n",
    "auc = np.zeros(n.shape)\n",
    "for j in range(n.size):\n",
    "    knn = NearestNeighbors(n_neighbors = n[j], metric = 'euclidean').fit(X_train3)\n",
    "    neighs = knn.kneighbors(X_test3, return_distance = False)\n",
    "    y_prec = np.zeros(y_test.shape)\n",
    "    for i in range(j):\n",
    "        y_prec += y_train.iloc[neighs[:, i]]\n",
    "    y_prec /= n[j]\n",
    "    auc[j] = roc_auc_score(y_test, y_prec)"
   ]
  },
  {
   "cell_type": "code",
   "execution_count": 26,
   "metadata": {
    "collapsed": false
   },
   "outputs": [
    {
     "name": "stdout",
     "output_type": "stream",
     "text": [
      "best score   0.801776319242  with n =  34\n"
     ]
    }
   ],
   "source": [
    "print \"best score  \", np.amax(auc), ' with n = ', n[np.argmax(auc)]"
   ]
  },
  {
   "cell_type": "markdown",
   "metadata": {},
   "source": [
    "#### c фолдингом (и по нормальному)"
   ]
  },
  {
   "cell_type": "code",
   "execution_count": 27,
   "metadata": {
    "collapsed": true
   },
   "outputs": [],
   "source": [
    "from sklearn.neighbors import KNeighborsClassifier\n",
    "X_test3, X_train3 = folding_counters(X_test2, X_train2, y_train2, n = 5)"
   ]
  },
  {
   "cell_type": "code",
   "execution_count": 30,
   "metadata": {
    "collapsed": false
   },
   "outputs": [],
   "source": [
    "n = np.arange(2,100, 4)\n",
    "auc = np.zeros(n.shape)\n",
    "for j in range(n.size):\n",
    "    knn = KNeighborsClassifier(n_neighbors = n[j]).fit(X_train3, y_train)\n",
    "    y_prec = knn.predict_proba(X_test3)\n",
    "    auc[j] = roc_auc_score(y_test, y_prec[:, 1])\n"
   ]
  },
  {
   "cell_type": "code",
   "execution_count": 31,
   "metadata": {
    "collapsed": false
   },
   "outputs": [
    {
     "name": "stdout",
     "output_type": "stream",
     "text": [
      "best score   0.666292687696  with n =  18\n"
     ]
    }
   ],
   "source": [
    "print \"best score  \", np.amax(auc), ' with n = ', n[np.argmax(auc)]"
   ]
  },
  {
   "cell_type": "markdown",
   "metadata": {},
   "source": [
    "## Часть 2: Решающие деревья и леса"
   ]
  },
  {
   "cell_type": "markdown",
   "metadata": {},
   "source": [
    "#### 1. Возьмите из предыдущей части выборку с парными признаками, преобразованную с помощью счетчиков без фолдинга. Настройте решающее дерево, подобрав оптимальные значения параметров `max_depth` и `min_samples_leaf`. Какой наилучший AUC-ROC на контроле удалось получить?"
   ]
  },
  {
   "cell_type": "code",
   "execution_count": 32,
   "metadata": {
    "collapsed": false
   },
   "outputs": [],
   "source": [
    "from sklearn.grid_search import GridSearchCV\n",
    "from sklearn.tree import DecisionTreeClassifier\n",
    "from sklearn.ensemble import RandomForestClassifier"
   ]
  },
  {
   "cell_type": "code",
   "execution_count": 33,
   "metadata": {
    "collapsed": true
   },
   "outputs": [],
   "source": [
    "X_test3 = counters(X_test2, X_train2, y_train)\n",
    "X_train3 = counters(X_train2, X_train2, y_train)"
   ]
  },
  {
   "cell_type": "code",
   "execution_count": 34,
   "metadata": {
    "collapsed": false
   },
   "outputs": [
    {
     "data": {
      "text/plain": [
       "GridSearchCV(cv=None, error_score='raise',\n",
       "       estimator=DecisionTreeClassifier(class_weight=None, criterion='gini', max_depth=None,\n",
       "            max_features=None, max_leaf_nodes=None, min_samples_leaf=1,\n",
       "            min_samples_split=2, min_weight_fraction_leaf=0.0,\n",
       "            random_state=241, splitter='best'),\n",
       "       fit_params={}, iid=True, loss_func=None, n_jobs=1,\n",
       "       param_grid={'max_depth': array([ 4,  8, 12, 16, 20, 24, 28, 32, 36, 40, 44, 48]), 'min_samples_leaf': array([ 2,  5,  8, 11, 14, 17, 20, 23, 26, 29, 32, 35, 38, 41, 44, 47])},\n",
       "       pre_dispatch='2*n_jobs', refit=True, score_func=None, scoring=None,\n",
       "       verbose=0)"
      ]
     },
     "execution_count": 34,
     "metadata": {},
     "output_type": "execute_result"
    }
   ],
   "source": [
    "leaves = np.arange(2, 50, 3)\n",
    "deep  = np.arange(4, 50, 4)\n",
    "gs = GridSearchCV(DecisionTreeClassifier(random_state = 241),\n",
    "                  param_grid = {\"max_depth\": deep, \n",
    "                                'min_samples_leaf': leaves})\n",
    "gs.fit(X_train3, y_train)\n",
    "\n"
   ]
  },
  {
   "cell_type": "code",
   "execution_count": 35,
   "metadata": {
    "collapsed": false
   },
   "outputs": [
    {
     "name": "stdout",
     "output_type": "stream",
     "text": [
      " best score is  0.534879155012\n",
      " best parameters are {'max_depth': 4, 'min_samples_leaf': 2}\n"
     ]
    }
   ],
   "source": [
    "prec_y = gs.predict_proba(X_test3)\n",
    "print \" best score is \", roc_auc_score(y_test, prec_y[:, 1])\n",
    "print \" best parameters are\", gs.best_params_"
   ]
  },
  {
   "cell_type": "markdown",
   "metadata": {},
   "source": [
    "#### 2. Настройте случайный лес, подобрав оптимальное число деревьев `n_estimators`. Какое качество на тестовой выборке он дает?"
   ]
  },
  {
   "cell_type": "code",
   "execution_count": 36,
   "metadata": {
    "collapsed": false
   },
   "outputs": [
    {
     "data": {
      "text/plain": [
       "GridSearchCV(cv=None, error_score='raise',\n",
       "       estimator=RandomForestClassifier(bootstrap=True, class_weight=None, criterion='gini',\n",
       "            max_depth=None, max_features='auto', max_leaf_nodes=None,\n",
       "            min_samples_leaf=1, min_samples_split=2,\n",
       "            min_weight_fraction_leaf=0.0, n_estimators=10, n_jobs=1,\n",
       "            oob_score=False, random_state=241, verbose=0, warm_start=False),\n",
       "       fit_params={}, iid=True, loss_func=None, n_jobs=1,\n",
       "       param_grid={'n_estimators': array([   1,    4,    9,   16,   25,   36,   49,   64,   81,  100,  121,\n",
       "        144,  169,  196,  225,  256,  289,  324,  361,  400,  441,  484,\n",
       "        529,  576,  625,  676,  729,  784,  841,  900,  961, 1024, 1089,\n",
       "       1156, 1225, 1296, 1369, 1444, 1521])},\n",
       "       pre_dispatch='2*n_jobs', refit=True, score_func=None, scoring=None,\n",
       "       verbose=0)"
      ]
     },
     "execution_count": 36,
     "metadata": {},
     "output_type": "execute_result"
    }
   ],
   "source": [
    "n = np.arange(1, 40)**2\n",
    "gsf = GridSearchCV(RandomForestClassifier(random_state = 241),\n",
    "                  param_grid = {'n_estimators': n})\n",
    "gsf.fit(X_train3, y_train)"
   ]
  },
  {
   "cell_type": "code",
   "execution_count": 37,
   "metadata": {
    "collapsed": false
   },
   "outputs": [
    {
     "name": "stdout",
     "output_type": "stream",
     "text": [
      " best score is  0.643255601058\n",
      " best parameters are {'n_estimators': 25}\n"
     ]
    }
   ],
   "source": [
    "prec_y = gsf.predict_proba(X_test3)\n",
    "print \" best score is \", roc_auc_score(y_test, prec_y[:, 1])\n",
    "print \" best parameters are\", gsf.best_params_"
   ]
  },
  {
   "cell_type": "markdown",
   "metadata": {},
   "source": [
    "#### 3. Возьмите выборку с парными признаками, для которой счетчики посчитаны с фолдингом. Обучите на ней случайный лес, подобрав число деревьев. Какое качество на тестовой выборке он дает? Чем вы можете объяснить изменение результата по сравнению с предыдущим пунктом?"
   ]
  },
  {
   "cell_type": "code",
   "execution_count": 38,
   "metadata": {
    "collapsed": true
   },
   "outputs": [],
   "source": [
    "X_test4, X_train4 = folding_counters(X_test2, X_train2, y_train2, n = 5)\n"
   ]
  },
  {
   "cell_type": "code",
   "execution_count": 39,
   "metadata": {
    "collapsed": false
   },
   "outputs": [
    {
     "data": {
      "text/plain": [
       "GridSearchCV(cv=None, error_score='raise',\n",
       "       estimator=RandomForestClassifier(bootstrap=True, class_weight=None, criterion='gini',\n",
       "            max_depth=None, max_features='auto', max_leaf_nodes=None,\n",
       "            min_samples_leaf=1, min_samples_split=2,\n",
       "            min_weight_fraction_leaf=0.0, n_estimators=10, n_jobs=1,\n",
       "            oob_score=False, random_state=241, verbose=0, warm_start=False),\n",
       "       fit_params={}, iid=True, loss_func=None, n_jobs=1,\n",
       "       param_grid={'n_estimators': array([   1,    4,    9,   16,   25,   36,   49,   64,   81,  100,  121,\n",
       "        144,  169,  196,  225,  256,  289,  324,  361,  400,  441,  484,\n",
       "        529,  576,  625,  676,  729,  784,  841,  900,  961, 1024, 1089,\n",
       "       1156, 1225, 1296, 1369, 1444, 1521])},\n",
       "       pre_dispatch='2*n_jobs', refit=True, score_func=None, scoring=None,\n",
       "       verbose=0)"
      ]
     },
     "execution_count": 39,
     "metadata": {},
     "output_type": "execute_result"
    }
   ],
   "source": [
    "n = np.arange(1, 40)**2\n",
    "gsf2 = GridSearchCV(RandomForestClassifier(random_state = 241),\n",
    "                  param_grid = {'n_estimators': n})\n",
    "gsf2.fit(X_train4, y_train)"
   ]
  },
  {
   "cell_type": "code",
   "execution_count": 40,
   "metadata": {
    "collapsed": false
   },
   "outputs": [
    {
     "name": "stdout",
     "output_type": "stream",
     "text": [
      " best score is  0.845526377648\n",
      " best parameters are {'n_estimators': 324}\n"
     ]
    }
   ],
   "source": [
    "prec_y = gsf2.predict_proba(X_test4) \n",
    "print \" best score is \", roc_auc_score(y_test, prec_y[:, 1])\n",
    "print \" best parameters are\", gsf2.best_params_"
   ]
  },
  {
   "cell_type": "markdown",
   "metadata": {},
   "source": [
    "Вероятной причиной является, как было отмечено в условии пункта 1.3, \"признаки, содержащие информацию о целевой переменной, могут привести к переобучению\". Большое количество значений признаков и сравнительное небольшое размер выборки увеличивает количество объектов, которые имеют уникальное значение признака(ов), особенно после добавления парных признаков. Причем clicks для уникальных признаков у таких объектов будет тождественно равен целевой переменной, что прямо отражается на переобучаемости дерева(леса деревьев). "
   ]
  }
 ],
 "metadata": {
  "kernelspec": {
   "display_name": "Python 3",
   "language": "python",
   "name": "python3"
  },
  "language_info": {
   "codemirror_mode": {
    "name": "ipython",
    "version": 3
   },
   "file_extension": ".py",
   "mimetype": "text/x-python",
   "name": "python",
   "nbconvert_exporter": "python",
   "pygments_lexer": "ipython3",
   "version": "3.4.3"
  }
 },
 "nbformat": 4,
 "nbformat_minor": 0
}
