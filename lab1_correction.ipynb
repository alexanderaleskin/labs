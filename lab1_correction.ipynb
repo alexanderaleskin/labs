{
 "cells": [
  {
   "cell_type": "markdown",
   "metadata": {},
   "source": [
    "# Лабораторная работа 1. Язык Python, основные библиотеки для анализа данных."
   ]
  },
  {
   "cell_type": "markdown",
   "metadata": {},
   "source": [
    "ФИО: Алескин Александр Сергеевич\n",
    "\n",
    "Группа: 317\n",
    "\n",
    "used python 3 "
   ]
  },
  {
   "cell_type": "code",
   "execution_count": 1,
   "metadata": {
    "collapsed": true
   },
   "outputs": [],
   "source": [
    "import numpy as np\n",
    "import pandas as pd"
   ]
  },
  {
   "cell_type": "markdown",
   "metadata": {},
   "source": [
    "## Часть 1: Python"
   ]
  },
  {
   "cell_type": "markdown",
   "metadata": {},
   "source": [
    "#### 2. Напишите функцию `sort_tokens(s)`, которая принимает на вход строку, разделяет ее на токены по запятым, сортирует токены с помощью функции `sorted()` и снова соединяет их в одну строку через запятые. Например, для строки `u\"ночь,фонарь,улица\"` функция должна выдать `u\"ночь,улица,фонарь\"`. Придумайте несколько входных строк и протестируйте функцию на них."
   ]
  },
  {
   "cell_type": "markdown",
   "metadata": {},
   "source": [
    "Обратите внимание, что склеить строки можно с помощью конструкции `'x'.join(...)`. Например:"
   ]
  },
  {
   "cell_type": "markdown",
   "metadata": {},
   "source": [
    "#### 3. Реализуйте функцию, которая принимает на вход numpy-массив целых чисел `a`, и генерирует массив, в котором число `i` встречается `a[i]` раз. Протестируйте на результате из прошлого задания."
   ]
  },
  {
   "cell_type": "markdown",
   "metadata": {},
   "source": [
    "Обратите внимание на функцию `np.repeat`"
   ]
  },
  {
   "cell_type": "code",
   "execution_count": 3,
   "metadata": {
    "collapsed": false
   },
   "outputs": [
    {
     "name": "stdout",
     "output_type": "stream",
     "text": [
      "[0 1 1 2 2 2 3 3 3 3]\n",
      "[1 2 2 3 3 3]\n",
      "[1 2 2 2 2 2 2 2 3 3 3]\n"
     ]
    }
   ],
   "source": [
    "#исправления\n",
    "def func_easy(a):\n",
    "    mas = np.repeat(range(len(a)), a)\n",
    "    return mas\n",
    "\n",
    "a = np.array([1, 2, 3, 4])\n",
    "print(func_easy(a))\n",
    "a -= 1\n",
    "print(func_easy(a))\n",
    "a[2] = 7\n",
    "print(func_easy(a))\n"
   ]
  },
  {
   "cell_type": "code",
   "execution_count": null,
   "metadata": {
    "collapsed": false
   },
   "outputs": [],
   "source": []
  },
  {
   "cell_type": "markdown",
   "metadata": {},
   "source": [
    "#### 5. Сгенерируйте матрицу с элементами из нормального распределения $\\mathcal{N}(10, 1)$. Найдите ее:\n",
    "- определитель\n",
    "- след\n",
    "- наименьший и наибольший элементы\n",
    "- спектральную норму\n",
    "- норму Фробениуса\n",
    "- собственные числа\n",
    "- обратную матрицу"
   ]
  },
  {
   "cell_type": "code",
   "execution_count": 4,
   "metadata": {
    "collapsed": false
   },
   "outputs": [
    {
     "name": "stdout",
     "output_type": "stream",
     "text": [
      "array:\n",
      " [[ 10.59757473  11.16188561   9.34402485  10.66164075  10.24135714]\n",
      " [ 10.61645593   9.30722467   9.59803836  11.1598372    9.99212486]\n",
      " [ 10.82904385  11.62391594  10.29391884   9.61599583  11.75768512]\n",
      " [ 10.01519171  10.89237546  10.90394775  10.18616341   9.17844769]\n",
      " [  9.08891133   9.4307014    9.22343409  10.16382228  10.54518444]]\n",
      "determinant =  -167.522769436\n",
      "trace = 50.9300660856\n",
      "max_elem = 11.7576851217\n",
      "min_elem = 9.08891133231\n",
      "spectral norm 51.3297039861\n",
      "Frobenius norm = 51.425971947\n",
      "eigenvalues = [ 51.25719028+0.j          1.31938146+0.j         -1.25862504+0.j\n",
      "  -0.19394031+1.3894281j  -0.19394031-1.3894281j]\n",
      "inverse matrix:\n",
      " [[-0.0908329   0.63329073  0.38327995 -0.1781351  -0.78416353]\n",
      " [ 0.56940186 -0.53962802 -0.15201782  0.08509197  0.05376371]\n",
      " [-0.61747321  0.08294328  0.10596994  0.40553773  0.04995798]\n",
      " [ 0.3274729  -0.09167596 -0.52497159 -0.01481115  0.3670552 ]\n",
      " [-0.20648663 -0.04742415  0.21890072 -0.26299544  0.32514324]]\n"
     ]
    }
   ],
   "source": [
    "a = np.random.normal(10,1, [5, 5]) \n",
    "print('array:\\n', a)\n",
    "print('determinant = ' , np.linalg.det(a))\n",
    "print('trace =', np.trace(a))\n",
    "print('max_elem =', np.max(a))\n",
    "print('min_elem =', np.min(a))\n",
    "print('spectral norm', np.linalg.norm(a, ord = 2)) #исправление\n",
    "print('Frobenius norm =', np.linalg.norm(a))\n",
    "print('eigenvalues =', np.linalg.eigvals(a))\n",
    "print('inverse matrix:\\n', np.linalg.inv(a))"
   ]
  },
  {
   "cell_type": "code",
   "execution_count": null,
   "metadata": {
    "collapsed": true
   },
   "outputs": [],
   "source": []
  }
 ],
 "metadata": {
  "kernelspec": {
   "display_name": "Python 3",
   "language": "python",
   "name": "python3"
  },
  "language_info": {
   "codemirror_mode": {
    "name": "ipython",
    "version": 3
   },
   "file_extension": ".py",
   "mimetype": "text/x-python",
   "name": "python",
   "nbconvert_exporter": "python",
   "pygments_lexer": "ipython3",
   "version": "3.4.3"
  }
 },
 "nbformat": 4,
 "nbformat_minor": 0
}
