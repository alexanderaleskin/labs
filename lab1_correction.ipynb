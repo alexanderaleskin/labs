{
 "cells": [
  {
   "cell_type": "markdown",
   "metadata": {},
   "source": [
    "# Лабораторная работа 1. Язык Python, основные библиотеки для анализа данных."
   ]
  },
  {
   "cell_type": "markdown",
   "metadata": {},
   "source": [
    "ФИО: Алескин Александр Сергеевич\n",
    "\n",
    "Группа: 317\n",
    "\n",
    "used python 3 "
   ]
  },
  {
   "cell_type": "code",
   "execution_count": 1,
   "metadata": {
    "collapsed": true
   },
   "outputs": [],
   "source": [
    "import numpy as np\n",
    "import pandas as pd"
   ]
  },
  {
   "cell_type": "markdown",
   "metadata": {},
   "source": [
    "## Часть 1: Python"
   ]
  },
  {
   "cell_type": "markdown",
   "metadata": {},
   "source": [
    "#### 2. Напишите функцию `sort_tokens(s)`, которая принимает на вход строку, разделяет ее на токены по запятым, сортирует токены с помощью функции `sorted()` и снова соединяет их в одну строку через запятые. Например, для строки `u\"ночь,фонарь,улица\"` функция должна выдать `u\"ночь,улица,фонарь\"`. Придумайте несколько входных строк и протестируйте функцию на них."
   ]
  },
  {
   "cell_type": "markdown",
   "metadata": {},
   "source": [
    "Обратите внимание, что склеить строки можно с помощью конструкции `'x'.join(...)`. Например:"
   ]
  },
  {
   "cell_type": "code",
   "execution_count": 2,
   "metadata": {
    "collapsed": false
   },
   "outputs": [
    {
     "data": {
      "text/plain": [
       "'i! am! very! excited! :-)'"
      ]
     },
     "execution_count": 2,
     "metadata": {},
     "output_type": "execute_result"
    }
   ],
   "source": [
    "'! '.join(['i', 'am', 'very', 'excited', ':-)'])"
   ]
  },
  {
   "cell_type": "code",
   "execution_count": 30,
   "metadata": {
    "collapsed": false
   },
   "outputs": [],
   "source": [
    "# исправление\n",
    "def sort_tokens(s):\n",
    "    x = s.split(sep =',')\n",
    "    x.sort()\n",
    "    return ','.join(x)    "
   ]
  },
  {
   "cell_type": "code",
   "execution_count": 31,
   "metadata": {
    "collapsed": false
   },
   "outputs": [
    {
     "data": {
      "text/plain": [
       "'ночь,улица,фонарь'"
      ]
     },
     "execution_count": 31,
     "metadata": {},
     "output_type": "execute_result"
    }
   ],
   "source": [
    "st = u\"ночь,фонарь,улица\"\n",
    "sort_tokens(st)"
   ]
  },
  {
   "cell_type": "code",
   "execution_count": 32,
   "metadata": {
    "collapsed": false
   },
   "outputs": [
    {
     "data": {
      "text/plain": [
       "'aa'"
      ]
     },
     "execution_count": 32,
     "metadata": {},
     "output_type": "execute_result"
    }
   ],
   "source": [
    "st = \"aa\"\n",
    "sort_tokens(st)"
   ]
  },
  {
   "cell_type": "code",
   "execution_count": 33,
   "metadata": {
    "collapsed": false
   },
   "outputs": [
    {
     "data": {
      "text/plain": [
       "'a,aa,arr,qq,qswe,vecw'"
      ]
     },
     "execution_count": 33,
     "metadata": {},
     "output_type": "execute_result"
    }
   ],
   "source": [
    "st = \"aa,a,qq,vecw,qswe,arr\"\n",
    "sort_tokens(st)"
   ]
  },
  {
   "cell_type": "markdown",
   "metadata": {},
   "source": [
    "## Часть 2: NumPy и SciPy"
   ]
  },
  {
   "cell_type": "markdown",
   "metadata": {},
   "source": [
    "#### 1. Повторите 1000 раз следующий эксперимент: сгенерируйте две матрицы размера $10 \\times 10$ из стандартного нормального распределения, перемножьте их (как матрицы) и найдите максимальный элемент. Какое среднее значение по экспериментам у максимальных элементов? 95-процентная квантиль?"
   ]
  },
  {
   "cell_type": "markdown",
   "metadata": {},
   "source": [
    "Для вычисления квантили воспользуйтесь функцией `np.percentile`"
   ]
  },
  {
   "cell_type": "code",
   "execution_count": 3,
   "metadata": {
    "collapsed": false
   },
   "outputs": [
    {
     "name": "stdout",
     "output_type": "stream",
     "text": [
      "expectation val of max elem:  8.34300962809\n",
      "95-centile is:  11.8841910107\n"
     ]
    }
   ],
   "source": [
    "# исправления\n",
    "import numpy as np\n",
    "\n",
    "max_val = []\n",
    "N = 1000\n",
    "for i in range(N):\n",
    "    a = np.random.normal(size = (10,10))\n",
    "    b = np.random.normal(size = (10,10))\n",
    "    a = a.dot(b) \n",
    "    max_val = max_val + [np.amax(a)]\n",
    "print(\"expectation val of max elem: \", np.mean(max_val))\n",
    "print(\"95-centile is: \", np.percentile(max_val, 95))"
   ]
  },
  {
   "cell_type": "markdown",
   "metadata": {},
   "source": [
    "#### 3. Реализуйте функцию, которая принимает на вход numpy-массив целых чисел `a`, и генерирует массив, в котором число `i` встречается `a[i]` раз. Протестируйте на результате из прошлого задания."
   ]
  },
  {
   "cell_type": "markdown",
   "metadata": {},
   "source": [
    "Обратите внимание на функцию `np.repeat`"
   ]
  },
  {
   "cell_type": "code",
   "execution_count": 38,
   "metadata": {
    "collapsed": false
   },
   "outputs": [
    {
     "name": "stdout",
     "output_type": "stream",
     "text": [
      "[0, 1, 1, 2, 2, 2, 3, 3, 3, 3]\n",
      "[1, 2, 2, 3, 3, 3]\n",
      "[1, 2, 2, 2, 2, 2, 2, 2, 3, 3, 3]\n"
     ]
    }
   ],
   "source": [
    "#исправления\n",
    "def func_easy(a):\n",
    "    mas = []\n",
    "    [mas.extend(np.repeat(i, a[i])) for i in range(len(a))]\n",
    "    return mas\n",
    "\n",
    "a = np.array([1, 2, 3, 4])\n",
    "print(func_easy(a))\n",
    "a -= 1\n",
    "print(func_easy(a))\n",
    "a[2] = 7\n",
    "print(func_easy(a))\n"
   ]
  },
  {
   "cell_type": "code",
   "execution_count": null,
   "metadata": {
    "collapsed": false
   },
   "outputs": [],
   "source": []
  },
  {
   "cell_type": "markdown",
   "metadata": {},
   "source": [
    "#### 4. Напишите функцию `scale(X)`, которая принимает на вход матрицу и масштабирует каждый ее столбец (вычитает среднее и делит на стандартное отклонение). Убедитесь, что в функции не будет происходить деления на ноль. Протестируйте на каких-нибудь данных."
   ]
  },
  {
   "cell_type": "code",
   "execution_count": 41,
   "metadata": {
    "collapsed": false
   },
   "outputs": [],
   "source": [
    "def scale(MASS):\n",
    "    MASS -= np.mean(MASS, axis = 0)\n",
    "    disp = np.std(MASS, axis = 0)\n",
    "    maska = disp != 0\n",
    "    MASS[:, maska] = MASS[:,maska] / disp[maska]\n",
    "        "
   ]
  },
  {
   "cell_type": "code",
   "execution_count": 47,
   "metadata": {
    "collapsed": false
   },
   "outputs": [
    {
     "name": "stdout",
     "output_type": "stream",
     "text": [
      "[[ 2.01498655 -0.90537843 -0.01085671]\n",
      " [ 8.97546564  3.53689911  4.62941428]\n",
      " [ 4.99555774  2.90076473 -1.84635559]]\n",
      "[[-1.16214569 -1.40176276 -0.34307563]\n",
      " [ 1.27897187  0.86304142  1.35969788]\n",
      " [-0.11682617  0.53872134 -1.01662225]]\n",
      " \n",
      "[[ 1.  1.  1.]\n",
      " [ 1.  1.  1.]\n",
      " [ 1.  1.  1.]]\n",
      "[[ 0.  0.  0.]\n",
      " [ 0.  0.  0.]\n",
      " [ 0.  0.  0.]]\n"
     ]
    }
   ],
   "source": [
    "a = np.random.normal(3,4, size= [3,3])\n",
    "print(a)\n",
    "scale(a)\n",
    "print(a)\n",
    "\n",
    "print(' ')\n",
    "a = np.ones([3,3])\n",
    "print(a)\n",
    "scale(a)\n",
    "print(a)"
   ]
  },
  {
   "cell_type": "markdown",
   "metadata": {},
   "source": [
    "#### 5. Сгенерируйте матрицу с элементами из нормального распределения $\\mathcal{N}(10, 1)$. Найдите ее:\n",
    "- определитель\n",
    "- след\n",
    "- наименьший и наибольший элементы\n",
    "- спектральную норму\n",
    "- норму Фробениуса\n",
    "- собственные числа\n",
    "- обратную матрицу"
   ]
  },
  {
   "cell_type": "code",
   "execution_count": 44,
   "metadata": {
    "collapsed": false
   },
   "outputs": [
    {
     "name": "stdout",
     "output_type": "stream",
     "text": [
      "array:\n",
      " [[ 10.06564123  12.20463311   9.54730031   9.35511824   9.86441043]\n",
      " [  9.44299749   9.63988579   9.24077258   9.65308549   8.91647175]\n",
      " [ 11.10190465  10.91880996  12.11141611   9.12954964   8.72545994]\n",
      " [  9.42117841   9.07724913   7.85015667   9.31247412  10.24599094]\n",
      " [  9.56486216   9.47280967  10.0256627    8.57680426   8.62835116]]\n",
      "determinant =  41.7295259077\n",
      "trace = 49.7577684133\n",
      "max_elem = 12.2046331135\n",
      "min_elem = 7.85015667085\n",
      "spectral norm 51.9871403041\n",
      "Frobenius norm = 48.6753486443\n",
      "eigenvalues = [ 48.46149446+0.j          -0.39705622+0.70667001j  -0.39705622-0.70667001j\n",
      "   1.04519319+0.46704671j   1.04519319-0.46704671j]\n",
      "inverse matrix:\n",
      " [[-0.23246845 -0.07316175  2.08877143  1.14620115 -3.1319946 ]\n",
      " [ 0.41842567  0.01692723 -0.0419577  -0.2226442  -0.18904459]\n",
      " [-0.07824295 -0.18265454 -0.93838518 -0.61577592  1.95837318]\n",
      " [-0.16171746  0.96942371 -0.17123785 -0.27462853 -0.31762979]\n",
      " [ 0.0499885  -0.68887912 -1.00885402 -0.0376889   1.83559284]]\n"
     ]
    }
   ],
   "source": [
    "a = np.random.normal(10,1, [5, 5]) \n",
    "print('array:\\n', a)\n",
    "print('determinant = ' , np.linalg.det(a))\n",
    "print('trace =', np.trace(a))\n",
    "print('max_elem =', np.max(a))\n",
    "print('min_elem =', np.min(a))\n",
    "print('spectral norm', np.linalg.norm(a, ord = np.inf)) #исправление\n",
    "print('Frobenius norm =', np.linalg.norm(a))\n",
    "print('eigenvalues =', np.linalg.eigvals(a))\n",
    "print('inverse matrix:\\n', np.linalg.inv(a))"
   ]
  }
 ],
 "metadata": {
  "kernelspec": {
   "display_name": "Python 3",
   "language": "python",
   "name": "python3"
  },
  "language_info": {
   "codemirror_mode": {
    "name": "ipython",
    "version": 3
   },
   "file_extension": ".py",
   "mimetype": "text/x-python",
   "name": "python",
   "nbconvert_exporter": "python",
   "pygments_lexer": "ipython3",
   "version": "3.4.3"
  }
 },
 "nbformat": 4,
 "nbformat_minor": 0
}
